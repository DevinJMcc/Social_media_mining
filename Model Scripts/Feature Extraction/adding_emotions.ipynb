{
  "nbformat": 4,
  "nbformat_minor": 0,
  "metadata": {
    "colab": {
      "name": "adding emotions.ipynb",
      "provenance": [],
      "collapsed_sections": []
    },
    "kernelspec": {
      "name": "python3",
      "display_name": "Python 3"
    },
    "language_info": {
      "name": "python"
    }
  },
  "cells": [
    {
      "cell_type": "code",
      "metadata": {
        "colab": {
          "base_uri": "https://localhost:8080/"
        },
        "id": "9_dj4ZuwZsc4",
        "outputId": "28de21d0-36d2-44be-b3c2-e47f33c08ae0"
      },
      "source": [
        "!pip install text2emotion\n",
        "import text2emotion as te\n",
        "import pandas as pd"
      ],
      "execution_count": null,
      "outputs": [
        {
          "output_type": "stream",
          "name": "stdout",
          "text": [
            "Collecting text2emotion\n",
            "  Downloading text2emotion-0.0.5-py3-none-any.whl (57 kB)\n",
            "\u001b[?25l\r\u001b[K     |█████▊                          | 10 kB 32.3 MB/s eta 0:00:01\r\u001b[K     |███████████▍                    | 20 kB 33.6 MB/s eta 0:00:01\r\u001b[K     |█████████████████               | 30 kB 11.8 MB/s eta 0:00:01\r\u001b[K     |██████████████████████▊         | 40 kB 9.3 MB/s eta 0:00:01\r\u001b[K     |████████████████████████████▍   | 51 kB 5.1 MB/s eta 0:00:01\r\u001b[K     |████████████████████████████████| 57 kB 3.0 MB/s \n",
            "\u001b[?25hCollecting emoji>=0.6.0\n",
            "  Downloading emoji-1.6.1.tar.gz (170 kB)\n",
            "\u001b[?25l\r\u001b[K     |██                              | 10 kB 26.5 MB/s eta 0:00:01\r\u001b[K     |███▉                            | 20 kB 37.9 MB/s eta 0:00:01\r\u001b[K     |█████▉                          | 30 kB 42.4 MB/s eta 0:00:01\r\u001b[K     |███████▊                        | 40 kB 37.0 MB/s eta 0:00:01\r\u001b[K     |█████████▋                      | 51 kB 41.1 MB/s eta 0:00:01\r\u001b[K     |███████████▋                    | 61 kB 30.1 MB/s eta 0:00:01\r\u001b[K     |█████████████▌                  | 71 kB 32.0 MB/s eta 0:00:01\r\u001b[K     |███████████████▍                | 81 kB 28.3 MB/s eta 0:00:01\r\u001b[K     |█████████████████▍              | 92 kB 9.9 MB/s eta 0:00:01\r\u001b[K     |███████████████████▎            | 102 kB 10.8 MB/s eta 0:00:01\r\u001b[K     |█████████████████████▏          | 112 kB 10.8 MB/s eta 0:00:01\r\u001b[K     |███████████████████████▏        | 122 kB 10.8 MB/s eta 0:00:01\r\u001b[K     |█████████████████████████       | 133 kB 10.8 MB/s eta 0:00:01\r\u001b[K     |███████████████████████████     | 143 kB 10.8 MB/s eta 0:00:01\r\u001b[K     |█████████████████████████████   | 153 kB 10.8 MB/s eta 0:00:01\r\u001b[K     |██████████████████████████████▉ | 163 kB 10.8 MB/s eta 0:00:01\r\u001b[K     |████████████████████████████████| 170 kB 10.8 MB/s \n",
            "\u001b[?25hRequirement already satisfied: nltk in /usr/local/lib/python3.7/dist-packages (from text2emotion) (3.2.5)\n",
            "Requirement already satisfied: six in /usr/local/lib/python3.7/dist-packages (from nltk->text2emotion) (1.15.0)\n",
            "Building wheels for collected packages: emoji\n",
            "  Building wheel for emoji (setup.py) ... \u001b[?25l\u001b[?25hdone\n",
            "  Created wheel for emoji: filename=emoji-1.6.1-py3-none-any.whl size=169314 sha256=10a3161e7b1eb7912354855b5cfc0fd7de049cf9b324331203f92c2c2fabe820\n",
            "  Stored in directory: /root/.cache/pip/wheels/ea/5f/d3/03d313ddb3c2a1a427bb4690f1621eea60fe6f2a30cc95940f\n",
            "Successfully built emoji\n",
            "Installing collected packages: emoji, text2emotion\n",
            "Successfully installed emoji-1.6.1 text2emotion-0.0.5\n",
            "[nltk_data] Downloading package stopwords to /root/nltk_data...\n",
            "[nltk_data]   Unzipping corpora/stopwords.zip.\n",
            "[nltk_data] Downloading package punkt to /root/nltk_data...\n",
            "[nltk_data]   Unzipping tokenizers/punkt.zip.\n",
            "[nltk_data] Downloading package wordnet to /root/nltk_data...\n",
            "[nltk_data]   Unzipping corpora/wordnet.zip.\n"
          ]
        }
      ]
    },
    {
      "cell_type": "code",
      "metadata": {
        "id": "suGMEd2iaQzg"
      },
      "source": [
        "data_og = pd.read_csv('/content/vax-sideeffects-FINAL.csv')\n",
        "happy = []\n",
        "angry = []\n",
        "suprise = []\n",
        "sad = []\n",
        "fear = []\n",
        "for i,r in data_og.iterrows():\n",
        "  tt = te.get_emotion(r.text)\n",
        "  happy += [tt['Happy']]\n",
        "  angry += [tt['Angry']]\n",
        "  suprise += [tt['Surprise']]\n",
        "  sad += [tt['Sad']]\n",
        "  fear += [tt['Fear']]"
      ],
      "execution_count": null,
      "outputs": []
    },
    {
      "cell_type": "code",
      "metadata": {
        "id": "gGBSLEktiLUN"
      },
      "source": [
        "data_og['Happy'] = happy\n",
        "data_og['Angry'] = angry\n",
        "data_og['Suprise'] = suprise\n",
        "data_og['Sad'] = sad\n",
        "data_og['Fear'] = fear\n",
        "\n",
        "dd = pd.read_csv('/content/word_embedings-APNews-tfidf-rules.csv')\n",
        "dd1 = pd.read_csv('/content/word_embedings-APNews-tfidf.csv')\n",
        "dd2 = pd.read_csv('/content/word_embedings-APNews.csv')\n",
        "ddd = pd.read_csv('/content/word_embedings-Wiki-tfidf-rules.csv')\n",
        "ddd1 = pd.read_csv('/content/word_embedings-Wiki-tfidf.csv')\n",
        "ddd2 = pd.read_csv('/content/word_embedings-Wiki.csv')\n",
        "\n",
        "dd['Happy'] = happy\n",
        "dd['Angry'] = angry\n",
        "dd['Suprise'] = suprise\n",
        "dd['Sad'] = sad\n",
        "dd['Fear'] = fear\n",
        "\n",
        "dd1['Happy'] = happy\n",
        "dd1['Angry'] = angry\n",
        "dd1['Suprise'] = suprise\n",
        "dd1['Sad'] = sad\n",
        "dd1['Fear'] = fear\n",
        "\n",
        "dd2['Happy'] = happy\n",
        "dd2['Angry'] = angry\n",
        "dd2['Suprise'] = suprise\n",
        "dd2['Sad'] = sad\n",
        "dd2['Fear'] = fear\n",
        "\n",
        "ddd['Happy'] = happy\n",
        "ddd['Angry'] = angry\n",
        "ddd['Suprise'] = suprise\n",
        "ddd['Sad'] = sad\n",
        "ddd['Fear'] = fear\n",
        "\n",
        "ddd1['Happy'] = happy\n",
        "ddd1['Angry'] = angry\n",
        "ddd1['Suprise'] = suprise\n",
        "ddd1['Sad'] = sad\n",
        "ddd1['Fear'] = fear\n",
        "\n",
        "ddd2['Happy'] = happy\n",
        "ddd2['Angry'] = angry\n",
        "ddd2['Suprise'] = suprise\n",
        "ddd2['Sad'] = sad\n",
        "ddd2['Fear'] = fear\n",
        "\n",
        "data_og.to_csv('vax-sideeffects-FINAL-2.csv',index=False)\n",
        "dd.to_csv('word_embedings-APNews-tfidf-rules-2.csv',index=False)\n",
        "dd1.to_csv('word_embedings-APNews-tfidf-2.csv',index=False)\n",
        "dd2.to_csv('word_embedings-APNews-2.csv',index=False)\n",
        "ddd.to_csv('word_embedings-Wiki-tfidf-rules-2.csv',index=False)\n",
        "ddd1.to_csv('word_embedings-Wiki-tfidf-2.csv',index=False)\n",
        "ddd2.to_csv('word_embedings-Wiki-2.csv',index=False)"
      ],
      "execution_count": null,
      "outputs": []
    }
  ]
}